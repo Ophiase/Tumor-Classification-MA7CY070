{
 "cells": [
  {
   "cell_type": "code",
   "execution_count": null,
   "id": "b6897350",
   "metadata": {},
   "outputs": [],
   "source": [
    "import os\n",
    "from typing import Tuple, List\n",
    "import torch\n",
    "from torch import nn, optim\n",
    "from torch.utils.data import DataLoader, random_split\n",
    "from torchvision import datasets, transforms\n",
    "import matplotlib.pyplot as plt\n",
    "from common import DATA_DIR, TRAIN_DIR, TEST_DIR, IMG_SIZE, CLASS_NAMES, DEVICE, NUM_CLASSES, OUTPUT_MODELS_DIR, OUTPUT_PLOTS_DIR\n",
    "\n",
    "# constants\n",
    "IMG_SIZE: Tuple[int, int] = (150, 150)\n",
    "BATCH_SIZE: int = 32\n",
    "VALID_SPLIT: float = 0.2\n",
    "EPOCHS: int = 40\n",
    "os.makedirs(OUTPUT_MODELS_DIR, exist_ok=True)"
   ]
  },
  {
   "cell_type": "code",
   "execution_count": null,
   "id": "0cae907b",
   "metadata": {},
   "outputs": [],
   "source": [
    "from typing import List\n",
    "\n",
    "\n",
    "def plot_history(history: dict[str, List[float]]) -> None:\n",
    "    fig, axes = plt.subplots(1, 2, figsize=(12,4))\n",
    "    axes[0].plot(history[\"train_loss\"], label=\"train\")\n",
    "    axes[0].plot(history[\"val_loss\"], label=\"val\")\n",
    "    axes[0].set_title(\"Loss\"); axes[0].legend()\n",
    "    axes[1].plot(history[\"train_acc\"], label=\"train\")\n",
    "    axes[1].plot(history[\"val_acc\"], label=\"val\")\n",
    "    axes[1].set_title(\"Accuracy\"); axes[1].legend()\n",
    "    plt.show()\n",
    "\n",
    "def test_evaluate(model: nn.Module,\n",
    "                  loader: DataLoader\n",
    "                  ) -> None:\n",
    "    loss, acc = validate(model, loader, nn.CrossEntropyLoss())\n",
    "    print(f\"Test Loss: {loss:.4f}\\nTest Accuracy: {acc:.4f}\")\n",
    "\n",
    "plot_history(history)\n",
    "test_evaluate(model, test_loader)"
   ]
  },
  {
   "cell_type": "code",
   "execution_count": null,
   "id": "f395cf06",
   "metadata": {},
   "outputs": [],
   "source": [
    "# usage\n",
    "save_experiment(\n",
    "    model,\n",
    "    history,\n",
    "    OUTPUT_MODELS_DIR,\n",
    "    save_full_model=True,\n",
    "    export_torchscript=False,\n",
    "    remark=\"Test Improved CNN with 512 size unlimited\"\n",
    ")"
   ]
  }
 ],
 "metadata": {
  "language_info": {
   "name": "python"
  }
 },
 "nbformat": 4,
 "nbformat_minor": 5
}
