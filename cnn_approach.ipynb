{
 "cells": [
  {
   "cell_type": "code",
   "execution_count": null,
   "id": "b6897350",
   "metadata": {},
   "outputs": [],
   "source": [
    "import os\n",
    "from typing import Tuple, List\n",
    "from torch import nn\n",
    "import matplotlib.pyplot as plt\n",
    "from common import IMG_SIZE, DEVICE, NUM_CLASSES, OUTPUT_MODELS_DIR\n",
    "from model.improved_tumor_cnn import build_model, build_optimizer\n",
    "from train.cnn_train import train_model\n",
    "from data_loader import create_data_loaders\n",
    "\n",
    "# constants\n",
    "IMG_SIZE: Tuple[int, int] = (150, 150)\n",
    "BATCH_SIZE: int = 32\n",
    "VALID_SPLIT: float = 0.2\n",
    "EPOCHS: int = 40\n",
    "os.makedirs(OUTPUT_MODELS_DIR, exist_ok=True)"
   ]
  },
  {
   "cell_type": "code",
   "execution_count": 6,
   "id": "d0d32a12",
   "metadata": {},
   "outputs": [],
   "source": [
    "model = build_model(NUM_CLASSES, IMG_SIZE, DEVICE)\n",
    "optimizer = build_optimizer(model)"
   ]
  },
  {
   "cell_type": "code",
   "execution_count": 7,
   "id": "989adf93",
   "metadata": {},
   "outputs": [],
   "source": [
    "train_loader, val_loader, test_loader = create_data_loaders()"
   ]
  },
  {
   "cell_type": "code",
   "execution_count": null,
   "id": "45019e0b",
   "metadata": {},
   "outputs": [],
   "source": [
    "history = train_model(model, train_loader, val_loader, optimizer=optimizer)"
   ]
  },
  {
   "cell_type": "code",
   "execution_count": null,
   "id": "0cae907b",
   "metadata": {},
   "outputs": [],
   "source": [
    "from train.cnn_train import validate\n",
    "from torch.utils.data import DataLoader\n",
    "\n",
    "def plot_history(history: dict[str, List[float]]) -> None:\n",
    "    fig, axes = plt.subplots(1, 2, figsize=(12,4))\n",
    "    axes[0].plot(history[\"train_loss\"], label=\"train\")\n",
    "    axes[0].plot(history[\"val_loss\"], label=\"val\")\n",
    "    axes[0].set_title(\"Loss\"); axes[0].legend()\n",
    "    axes[1].plot(history[\"train_acc\"], label=\"train\")\n",
    "    axes[1].plot(history[\"val_acc\"], label=\"val\")\n",
    "    axes[1].set_title(\"Accuracy\"); axes[1].legend()\n",
    "    plt.show()\n",
    "\n",
    "def test_evaluate(model: nn.Module,\n",
    "                  loader: DataLoader\n",
    "                  ) -> None:\n",
    "    loss, acc = validate(model, loader, nn.CrossEntropyLoss())\n",
    "    print(f\"Test Loss: {loss:.4f}\\nTest Accuracy: {acc:.4f}\")\n",
    "\n",
    "plot_history(history)\n",
    "test_evaluate(model, test_loader)"
   ]
  },
  {
   "cell_type": "code",
   "execution_count": null,
   "id": "f395cf06",
   "metadata": {},
   "outputs": [],
   "source": [
    "# usage\n",
    "from train.save import save_experiment\n",
    "\n",
    "\n",
    "save_experiment(\n",
    "    model,\n",
    "    history,\n",
    "    OUTPUT_MODELS_DIR,\n",
    "    save_full_model=True,\n",
    "    export_torchscript=False,\n",
    "    remark=\"Test Improved CNN with 512 size unlimited\"\n",
    ")"
   ]
  }
 ],
 "metadata": {
  "kernelspec": {
   "display_name": "Python 3",
   "language": "python",
   "name": "python3"
  },
  "language_info": {
   "codemirror_mode": {
    "name": "ipython",
    "version": 3
   },
   "file_extension": ".py",
   "mimetype": "text/x-python",
   "name": "python",
   "nbconvert_exporter": "python",
   "pygments_lexer": "ipython3",
   "version": "3.9.13"
  }
 },
 "nbformat": 4,
 "nbformat_minor": 5
}
